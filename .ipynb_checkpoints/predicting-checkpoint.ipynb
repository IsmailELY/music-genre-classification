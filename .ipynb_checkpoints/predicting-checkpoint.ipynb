{
 "cells": [
  {
   "cell_type": "code",
   "execution_count": 21,
   "metadata": {},
   "outputs": [],
   "source": [
    "from tensorflow.keras.models import load_model\n",
    "\n",
    "import os\n",
    "import multiprocessing\n",
    "import warnings\n",
    "import librosa\n",
    "\n",
    "from tqdm import tqdm\n",
    "from scipy import stats\n",
    "\n",
    "import numpy as np\n",
    "import pandas as pd\n",
    "import sklearn as skl\n",
    "import utils"
   ]
  },
  {
   "cell_type": "code",
   "execution_count": 22,
   "metadata": {},
   "outputs": [],
   "source": [
    "from tensorflow.keras.models import Sequential\n",
    "from tensorflow.keras.layers import Dense, Dropout, BatchNormalization, Conv2D\n",
    "from keras.utils import np_utils\n",
    "from tensorflow.keras.optimizers import RMSprop, Nadam\n",
    "\n",
    "import keras"
   ]
  },
  {
   "cell_type": "code",
   "execution_count": 23,
   "metadata": {},
   "outputs": [
    {
     "name": "stdout",
     "output_type": "stream",
     "text": [
      "WARNING:tensorflow:Large dropout rate: 0.6 (>0.5). In TensorFlow 2.x, dropout() uses dropout rate instead of keep_prob. Please ensure that this is intended.\n",
      "Model: \"sequential_1\"\n",
      "_________________________________________________________________\n",
      "Layer (type)                 Output Shape              Param #   \n",
      "=================================================================\n",
      "dense_3 (Dense)              (None, 128)               26624     \n",
      "_________________________________________________________________\n",
      "dropout_2 (Dropout)          (None, 128)               0         \n",
      "_________________________________________________________________\n",
      "dense_4 (Dense)              (None, 256)               33024     \n",
      "_________________________________________________________________\n",
      "dropout_3 (Dropout)          (None, 256)               0         \n",
      "_________________________________________________________________\n",
      "dense_5 (Dense)              (None, 8)                 2056      \n",
      "=================================================================\n",
      "Total params: 61,704\n",
      "Trainable params: 61,704\n",
      "Non-trainable params: 0\n",
      "_________________________________________________________________\n"
     ]
    }
   ],
   "source": [
    "model = Sequential()\n",
    "model.add(Dense(128, input_dim=207, activation='relu'))\n",
    "\n",
    "model.add(Dropout(0.6))\n",
    "model.add(Dense(256, activation='relu'))\n",
    "model.add(Dropout(0.4))\n",
    "model.add(Dense(8, activation='softmax'))\n",
    "\n",
    "model.summary()"
   ]
  },
  {
   "cell_type": "code",
   "execution_count": 24,
   "metadata": {},
   "outputs": [
    {
     "name": "stdout",
     "output_type": "stream",
     "text": [
      "WARNING:tensorflow:Large dropout rate: 0.6 (>0.5). In TensorFlow 2.x, dropout() uses dropout rate instead of keep_prob. Please ensure that this is intended.\n"
     ]
    }
   ],
   "source": [
    "model = load_model('models/DNN.h5')\n",
    "model.compile(optimizer='adam', loss='sparse_categorical_crossentropy', metrics=['accuracy'])"
   ]
  },
  {
   "cell_type": "code",
   "execution_count": null,
   "metadata": {},
   "outputs": [],
   "source": []
  },
  {
   "cell_type": "code",
   "execution_count": 107,
   "metadata": {},
   "outputs": [],
   "source": [
    "def columns():\n",
    "    feature_sizes = dict(chroma_stft=12, chroma_cqt=12, chroma_cens=12,\n",
    "                         tonnetz=6, mfcc=20, rmse=1, zcr=1,\n",
    "                         spectral_centroid=1, spectral_bandwidth=1,\n",
    "                         spectral_contrast=7, spectral_rolloff=1)\n",
    "    moments = ('mean', 'std', 'skew', 'kurtosis', 'median', 'min', 'max')\n",
    "\n",
    "    columns = []\n",
    "    for name, size in feature_sizes.items():\n",
    "        for moment in moments:\n",
    "            it = ((name, moment, '{:02d}'.format(i+1)) for i in range(size))\n",
    "            columns.extend(it)\n",
    "\n",
    "    names = ('feature', 'statistics', 'number')\n",
    "    columns = pd.MultiIndex.from_tuples(columns, names=names)\n",
    "\n",
    "    # More efficient to slice if indexes are sorted.\n",
    "    return columns.sort_values()\n",
    "\n",
    "\n",
    "def compute_features2(songname):\n",
    "\n",
    "            features = []           \n",
    "            \n",
    "            y, sr = librosa.load(songname, duration=30)\n",
    "            tempo, beats = librosa.beat.beat_track(y=y, sr=sr)\n",
    "            chroma_stft = librosa.feature.chroma_stft(y=y, sr=sr)\n",
    "            rmse = librosa.feature.rms(y=y)\n",
    "            cent = librosa.feature.spectral_centroid(y=y, sr=sr)\n",
    "            spec_bw = librosa.feature.spectral_bandwidth(y=y, sr=sr)\n",
    "            rolloff = librosa.feature.spectral_rolloff(y=y, sr=sr)\n",
    "            zcr = librosa.feature.zero_crossing_rate(y)\n",
    "            mfcc = librosa.feature.mfcc(y=y, sr=sr)\n",
    "            features.append(tempo)\n",
    "            features.append(np.sum(beats))\n",
    "            features.append(np.mean(chroma_stft))\n",
    "            features.append(np.mean(rmse))\n",
    "            features.append(np.mean(cent))\n",
    "            features.append(np.mean(spec_bw))\n",
    "            features.append(np.mean(rolloff))\n",
    "            features.append(np.mean(zcr))\n",
    "            for coefficient in mfcc:\n",
    "                features.append(np.mean(coefficient))\n",
    "            \n",
    "\n",
    "            return features\n",
    "        \n",
    "        \n",
    "def compute_features(filepath):\n",
    "\n",
    "    features = pd.Series(index=columns(), dtype=np.float32, name=filepath)\n",
    "\n",
    "    # Catch warnings as exceptions (audioread leaks file descriptors).\n",
    "    warnings.filterwarnings('error', module='librosa')\n",
    "\n",
    "    def feature_stats(name, values):\n",
    "        features[name, 'mean'] = np.mean(values, axis=1)\n",
    "        features[name, 'std'] = np.std(values, axis=1)\n",
    "        features[name, 'skew'] = stats.skew(values, axis=1)\n",
    "        features[name, 'kurtosis'] = stats.kurtosis(values, axis=1)\n",
    "        features[name, 'median'] = np.median(values, axis=1)\n",
    "        features[name, 'min'] = np.min(values, axis=1)\n",
    "        features[name, 'max'] = np.max(values, axis=1)\n",
    "\n",
    "    try:\n",
    "        x, sr = librosa.load(filepath, sr=None, mono=True)  # kaiser_fast\n",
    "\n",
    "        f = librosa.feature.zero_crossing_rate(x, frame_length=2048, hop_length=512)\n",
    "        feature_stats('zcr', f)\n",
    "\n",
    "        cqt = np.abs(librosa.cqt(x, sr=sr, hop_length=512, bins_per_octave=12,\n",
    "                                 n_bins=7*12, tuning=None))\n",
    "        assert cqt.shape[0] == 7 * 12\n",
    "        assert np.ceil(len(x)/512) <= cqt.shape[1] <= np.ceil(len(x)/512)+1\n",
    "\n",
    "        f = librosa.feature.chroma_cqt(C=cqt, n_chroma=12, n_octaves=7)\n",
    "        feature_stats('chroma_cqt', f)\n",
    "        f = librosa.feature.chroma_cens(C=cqt, n_chroma=12, n_octaves=7)\n",
    "        feature_stats('chroma_cens', f)\n",
    "        f = librosa.feature.tonnetz(chroma=f)\n",
    "        feature_stats('tonnetz', f)\n",
    "\n",
    "        del cqt\n",
    "        stft = np.abs(librosa.stft(x, n_fft=2048, hop_length=512))\n",
    "        assert stft.shape[0] == 1 + 2048 // 2\n",
    "        assert np.ceil(len(x)/512) <= stft.shape[1] <= np.ceil(len(x)/512)+1\n",
    "        del x\n",
    "\n",
    "        f = librosa.feature.chroma_stft(S=stft**2, n_chroma=12)\n",
    "        feature_stats('chroma_stft', f)\n",
    "\n",
    "        f = librosa.feature.rms(S=stft)\n",
    "        feature_stats('rmse', f)\n",
    "\n",
    "        f = librosa.feature.spectral_centroid(S=stft)\n",
    "        feature_stats('spectral_centroid', f)\n",
    "        f = librosa.feature.spectral_bandwidth(S=stft)\n",
    "        feature_stats('spectral_bandwidth', f)\n",
    "        f = librosa.feature.spectral_contrast(S=stft, n_bands=6)\n",
    "        feature_stats('spectral_contrast', f)\n",
    "        f = librosa.feature.spectral_rolloff(S=stft)\n",
    "        feature_stats('spectral_rolloff', f)\n",
    "\n",
    "        mel = librosa.feature.melspectrogram(sr=sr, S=stft**2)\n",
    "        del stft\n",
    "        f = librosa.feature.mfcc(S=librosa.power_to_db(mel), n_mfcc=20)\n",
    "        feature_stats('mfcc', f)\n",
    "\n",
    "    except Exception as e:\n",
    "        print('{}: {}'.format(filepath, repr(e)))\n",
    "\n",
    "    return features\n",
    "\n",
    "genre_dict = {\n",
    "    'Hip-Hop': 0,\n",
    "    'Pop': 1,\n",
    "    'Folk': 2,\n",
    "    'Rock': 3,\n",
    "    'Experimental': 4,\n",
    "    'International': 5,\n",
    "    'Electronic': 6,\n",
    "    'Instrumental': 7,\n",
    "}\n",
    "\n",
    "inv_genre_dict = {v: k for k, v in genre_dict.items()}\n",
    "\n",
    "genre_names = [inv_genre_dict[i] for i in range(8)]"
   ]
  },
  {
   "cell_type": "code",
   "execution_count": 133,
   "metadata": {},
   "outputs": [],
   "source": [
    "test = compute_features('songs/note.wav')\n",
    "test2 = compute_features('songs/rock.wav')"
   ]
  },
  {
   "cell_type": "code",
   "execution_count": 121,
   "metadata": {},
   "outputs": [
    {
     "name": "stdout",
     "output_type": "stream",
     "text": [
      "feature      statistics  number\n",
      "chroma_cens  kurtosis    01        0.065404\n",
      "                         02        0.431405\n",
      "                         03       -0.404023\n",
      "                         04        0.254728\n",
      "                         05        0.207687\n",
      "Name: songs/rock.wav, dtype: float32\n"
     ]
    },
    {
     "data": {
      "text/plain": [
       "(518,)"
      ]
     },
     "execution_count": 121,
     "metadata": {},
     "output_type": "execute_result"
    }
   ],
   "source": [
    "print(test2.head())\n",
    "test.shape"
   ]
  },
  {
   "cell_type": "code",
   "execution_count": 138,
   "metadata": {},
   "outputs": [
    {
     "name": "stdout",
     "output_type": "stream",
     "text": [
      "feature        chroma_cens                                                    \\\n",
      "statistics        kurtosis                                                     \n",
      "number                  01        02        03        04        05        06   \n",
      "songs/note.wav   -0.704153 -0.426108 -1.043715 -0.800723 -0.632635 -0.518501   \n",
      "songs/rock.wav    0.065404  0.431405 -0.404023  0.254728  0.207687  0.586801   \n",
      "\n",
      "feature                                                 ...   tonnetz  \\\n",
      "statistics                                              ...       std   \n",
      "number                07        08        09        10  ...        04   \n",
      "songs/note.wav -0.494837 -1.247743 -0.679685 -0.506691  ...  0.184954   \n",
      "songs/rock.wav -0.545897 -0.757933  0.100386 -0.914335  ...  0.074562   \n",
      "\n",
      "feature                                   zcr                                \\\n",
      "statistics                           kurtosis       max      mean    median   \n",
      "number                05        06         01        01        01        01   \n",
      "songs/note.wav  0.025364  0.029493  17.090944  0.263184  0.034777  0.027832   \n",
      "songs/rock.wav  0.018046  0.017216   1.857691  0.122559  0.051520  0.049316   \n",
      "\n",
      "feature                                       \n",
      "statistics           min      skew       std  \n",
      "number                01        01        01  \n",
      "songs/note.wav  0.005859  3.942050  0.033207  \n",
      "songs/rock.wav  0.014160  0.975654  0.015163  \n",
      "\n",
      "[2 rows x 518 columns]\n",
      "[[-1. -1. -1. ... -1.  1.  1.]\n",
      " [ 1.  1.  1. ...  1. -1. -1.]]\n",
      "(2, 518)\n",
      "[[-6.13183427  0.08524857 -3.81071319  2.67526599 -0.79692849  5.37720428\n",
      "   2.36389851  3.57499146  3.08723991 -2.96495615  0.47063621 -0.61977792\n",
      "   2.51283848  7.51367267 -1.35797204  2.026035   -1.92710996 -3.3826352\n",
      "   1.7416817   2.78855001  0.78540077 -1.62256501  2.31213064  2.29209957\n",
      "   0.18563084 -0.14858264  1.66333926  2.69383226  1.30190447 -2.77654465\n",
      "  -1.22699034  0.97979475 -0.1591529  -0.79611564  0.37657303  0.417374\n",
      "  -0.62078553 -1.17896299  0.79929398 -1.54101775 -0.10451125  1.76290502\n",
      "  -0.13461459 -0.0583826  -0.48182734  0.5541048  -0.17843324  0.6305214\n",
      "  -0.14831256  0.62905778  0.08768824  0.63671724 -0.06285944  0.22143514\n",
      "  -1.03467402  2.51751616 -2.00404141  0.21925324  1.22549632  0.05336861\n",
      "  -1.39427509  0.34011317  0.58203479 -0.0578427  -0.02877331 -3.03736765\n",
      "   0.14752383 -1.2942355  -0.4572338  -1.18457721 -0.03275351  1.21532136\n",
      "  -0.12542954 -0.9273556   1.71895324  0.01171139  0.35847794 -1.54708587\n",
      "   0.35930048  0.20545296  1.05288604 -1.16333843  0.82077431 -0.23041202\n",
      "  -0.03667573 -1.32290987 -0.11128379 -2.23390572 -0.10750776  1.46215127\n",
      "  -0.59607665 -0.37507845 -0.59253584 -1.01204101  0.52992911 -0.13584581\n",
      "  -1.42832205 -0.26364961  0.19704834 -0.33174917 -0.49604671 -0.6545044\n",
      "   1.06701845 -0.50846682 -0.86695851 -0.77812702  0.48690192 -1.29574955\n",
      "  -0.01924603 -0.34111992 -1.7543255   0.55061329 -0.76898094  0.19718485\n",
      "   0.38870281 -0.87688277  0.66939887 -0.54715214 -0.90251348  2.38313145\n",
      "  -2.25312147  0.53991376 -0.57526177  1.48236389  1.80430821  1.43518445\n",
      "   1.76344798  1.28449988 -0.32853465 -0.59766664 -1.2220755  -0.17528156\n",
      "   0.64942327  0.73505424 -1.26987803 -0.83008427 -0.33004751 -0.67838615\n",
      "  -1.16442544 -0.80447607 -1.52664975  0.28288117 -0.4289746  -0.53371476\n",
      "   0.51734405  0.66625896  2.74919989 -0.19243514 -1.12062145  0.42492799\n",
      "  -0.58249746 -0.06131576  1.58262512 -0.26746431 -0.21237996  0.28862739\n",
      "   0.68974366 -0.03450228 -0.71288021 -0.64753842  0.32631226  0.15746467\n",
      "  -1.23407387 -1.10434348 -0.53947351  0.45345027  1.03016943 -0.16426571\n",
      "   0.9279271   0.4461238  -0.11494656 -0.04461672  1.54676736  0.88667303\n",
      "   0.18400817 -0.27293872  0.46160279 -0.85308119  0.06407985  1.06458035\n",
      "  -0.30271578 -0.59308533  0.63056667 -0.5231692  -0.34942106 -1.19628422\n",
      "   1.00852273  0.20387691  0.07390201  0.28302706 -1.80215047  0.56091165\n",
      "   0.37852813 -0.09369681  0.36424589 -0.62364848  0.08040407 -0.77828662\n",
      "   0.35372096  0.61225722  0.01013326 -0.33987855 -0.77958285  0.1189625\n",
      "  -0.95009555  0.45239232  0.06054681]\n",
      " [ 6.13183427 -0.08524857  3.81071319 -2.67526599  0.79692849 -5.37720428\n",
      "  -2.36389851 -3.57499146 -3.08723991  2.96495615 -0.47063621  0.61977792\n",
      "  -2.51283848 -7.51367267  1.35797204 -2.026035    1.92710996  3.3826352\n",
      "  -1.7416817  -2.78855001 -0.78540077  1.62256501 -2.31213064 -2.29209957\n",
      "  -0.18563084  0.14858264 -1.66333926 -2.69383226 -1.30190447  2.77654465\n",
      "   1.22699034 -0.97979475  0.1591529   0.79611564 -0.37657303 -0.417374\n",
      "   0.62078553  1.17896299 -0.79929398  1.54101775  0.10451125 -1.76290502\n",
      "   0.13461459  0.0583826   0.48182734 -0.5541048   0.17843324 -0.6305214\n",
      "   0.14831256 -0.62905778 -0.08768824 -0.63671724  0.06285944 -0.22143514\n",
      "   1.03467402 -2.51751616  2.00404141 -0.21925324 -1.22549632 -0.05336861\n",
      "   1.39427509 -0.34011317 -0.58203479  0.0578427   0.02877331  3.03736765\n",
      "  -0.14752383  1.2942355   0.4572338   1.18457721  0.03275351 -1.21532136\n",
      "   0.12542954  0.9273556  -1.71895324 -0.01171139 -0.35847794  1.54708587\n",
      "  -0.35930048 -0.20545296 -1.05288604  1.16333843 -0.82077431  0.23041202\n",
      "   0.03667573  1.32290987  0.11128379  2.23390572  0.10750776 -1.46215127\n",
      "   0.59607665  0.37507845  0.59253584  1.01204101 -0.52992911  0.13584581\n",
      "   1.42832205  0.26364961 -0.19704834  0.33174917  0.49604671  0.6545044\n",
      "  -1.06701845  0.50846682  0.86695851  0.77812702 -0.48690192  1.29574955\n",
      "   0.01924603  0.34111992  1.7543255  -0.55061329  0.76898094 -0.19718485\n",
      "  -0.38870281  0.87688277 -0.66939887  0.54715214  0.90251348 -2.38313145\n",
      "   2.25312147 -0.53991376  0.57526177 -1.48236389 -1.80430821 -1.43518445\n",
      "  -1.76344798 -1.28449988  0.32853465  0.59766664  1.2220755   0.17528156\n",
      "  -0.64942327 -0.73505424  1.26987803  0.83008427  0.33004751  0.67838615\n",
      "   1.16442544  0.80447607  1.52664975 -0.28288117  0.4289746   0.53371476\n",
      "  -0.51734405 -0.66625896 -2.74919989  0.19243514  1.12062145 -0.42492799\n",
      "   0.58249746  0.06131576 -1.58262512  0.26746431  0.21237996 -0.28862739\n",
      "  -0.68974366  0.03450228  0.71288021  0.64753842 -0.32631226 -0.15746467\n",
      "   1.23407387  1.10434348  0.53947351 -0.45345027 -1.03016943  0.16426571\n",
      "  -0.9279271  -0.4461238   0.11494656  0.04461672 -1.54676736 -0.88667303\n",
      "  -0.18400817  0.27293872 -0.46160279  0.85308119 -0.06407985 -1.06458035\n",
      "   0.30271578  0.59308533 -0.63056667  0.5231692   0.34942106  1.19628422\n",
      "  -1.00852273 -0.20387691 -0.07390201 -0.28302706  1.80215047 -0.56091165\n",
      "  -0.37852813  0.09369681 -0.36424589  0.62364848 -0.08040407  0.77828662\n",
      "  -0.35372096 -0.61225722 -0.01013326  0.33987855  0.77958285 -0.1189625\n",
      "   0.95009555 -0.45239232 -0.06054681]]\n",
      "['Folk', 'Electronic']\n"
     ]
    },
    {
     "data": {
      "text/plain": [
       "array([[0.27604297, 0.03475719, 0.34739596, 0.00340138, 0.27055687,\n",
       "        0.0005065 , 0.0630591 , 0.00427999],\n",
       "       [0.00955295, 0.29252917, 0.01101605, 0.05169288, 0.02584084,\n",
       "        0.04061678, 0.34771055, 0.22104076]], dtype=float32)"
      ]
     },
     "execution_count": 138,
     "metadata": {},
     "output_type": "execute_result"
    }
   ],
   "source": [
    "import pickle\n",
    "X = test.to_frame().T\n",
    "X2 = test2.to_frame().T\n",
    "\n",
    "X = pd.concat([X,X2])\n",
    "print(X.head())\n",
    "pca = pickle.load(open('pca','rb'))\n",
    "\n",
    "X = skl.preprocessing.StandardScaler().fit_transform(X)\n",
    "print(X)\n",
    "print(X.shape)\n",
    "X = pca.transform(X)\n",
    "print(X)\n",
    "print([inv_genre_dict[model.predict_classes(X)[i]] for i in [0,1]])\n",
    "model.predict(X)"
   ]
  },
  {
   "cell_type": "code",
   "execution_count": 48,
   "metadata": {},
   "outputs": [
    {
     "data": {
      "text/plain": [
       "array([[0.09499289, 0.06599655, 0.14774106, 0.07535625, 0.1112358 ,\n",
       "        0.11708879, 0.24027342, 0.14731522]], dtype=float32)"
      ]
     },
     "execution_count": 48,
     "metadata": {},
     "output_type": "execute_result"
    }
   ],
   "source": [
    "model.predict(pca.transform(skl.preprocessing.StandardScaler().fit_transform(test2.to_frame().T)))"
   ]
  },
  {
   "cell_type": "code",
   "execution_count": 90,
   "metadata": {},
   "outputs": [],
   "source": [
    "tracks = utils.load('fma_metadata/tracks.csv')\n",
    "genres = utils.load('fma_metadata/genres.csv')\n",
    "\n",
    "genre1 = tracks['track', 'genre_top'] == 'Rock'\n",
    "genre2 = tracks['track', 'genre_top'] == 'Electronic'\n",
    "\n",
    "small = tracks['set', 'subset'] <= 'small'\n",
    "\n",
    "train = tracks['set', 'split'] == 'training'\n",
    "val = tracks['set', 'split'] == 'validation'\n",
    "test = tracks['set', 'split'] == 'test'\n",
    "\n",
    "features = utils.load('fma_metadata/features.csv')\n",
    "X_train = features.loc[small & train]\n",
    "\n",
    "y_train = tracks.loc[small & train, ('track', 'genre_top')]\n"
   ]
  },
  {
   "cell_type": "code",
   "execution_count": 118,
   "metadata": {},
   "outputs": [
    {
     "name": "stdout",
     "output_type": "stream",
     "text": [
      "(6400, 207)\n",
      "[[ 0.49028565 -0.23754468  1.15523324 ...  0.33788714 -0.1318657\n",
      "  -0.32881255]\n",
      " [ 0.33306596 -0.4497311   0.65844177 ... -0.1667848  -2.14088161\n",
      "  -0.22367863]\n",
      " [ 0.98226792  0.57648104  0.87899976 ...  0.38557993  0.37012294\n",
      "  -1.24481511]\n",
      " ...\n",
      " [-1.0239342  -1.34514829 -1.72477356 ...  1.72420224  0.40600813\n",
      "  -1.67254315]\n",
      " [-1.1460063  -0.55585006 -0.06354943 ...  0.76673139 -0.64436658\n",
      "  -0.31156717]\n",
      " [-0.89734092 -0.92808442 -0.97449704 ... -0.93360767 -1.04206242\n",
      "   1.21609842]]\n",
      "(6400, 207)\n"
     ]
    },
    {
     "ename": "ValueError",
     "evalue": "operands could not be broadcast together with shapes (6400,207) (518,) ",
     "output_type": "error",
     "traceback": [
      "\u001b[0;31m---------------------------------------------------------------------------\u001b[0m",
      "\u001b[0;31mValueError\u001b[0m                                Traceback (most recent call last)",
      "\u001b[0;32m<ipython-input-118-fdb0d0edcd0d>\u001b[0m in \u001b[0;36m<module>\u001b[0;34m\u001b[0m\n\u001b[1;32m     11\u001b[0m \u001b[0mprint\u001b[0m\u001b[0;34m(\u001b[0m\u001b[0mX_train\u001b[0m\u001b[0;34m)\u001b[0m\u001b[0;34m\u001b[0m\u001b[0;34m\u001b[0m\u001b[0m\n\u001b[1;32m     12\u001b[0m \u001b[0mprint\u001b[0m\u001b[0;34m(\u001b[0m\u001b[0mX_train\u001b[0m\u001b[0;34m.\u001b[0m\u001b[0mshape\u001b[0m\u001b[0;34m)\u001b[0m\u001b[0;34m\u001b[0m\u001b[0;34m\u001b[0m\u001b[0m\n\u001b[0;32m---> 13\u001b[0;31m \u001b[0mX_train\u001b[0m \u001b[0;34m=\u001b[0m \u001b[0mpca\u001b[0m\u001b[0;34m.\u001b[0m\u001b[0mtransform\u001b[0m\u001b[0;34m(\u001b[0m\u001b[0mX_train\u001b[0m\u001b[0;34m)\u001b[0m\u001b[0;34m\u001b[0m\u001b[0;34m\u001b[0m\u001b[0m\n\u001b[0m\u001b[1;32m     14\u001b[0m \u001b[0mprint\u001b[0m\u001b[0;34m(\u001b[0m\u001b[0mX_train\u001b[0m\u001b[0;34m.\u001b[0m\u001b[0mshape\u001b[0m\u001b[0;34m)\u001b[0m\u001b[0;34m\u001b[0m\u001b[0;34m\u001b[0m\u001b[0m\n\u001b[1;32m     15\u001b[0m \u001b[0mpredictions\u001b[0m \u001b[0;34m=\u001b[0m \u001b[0mmodel\u001b[0m\u001b[0;34m.\u001b[0m\u001b[0mpredict_classes\u001b[0m\u001b[0;34m(\u001b[0m\u001b[0mX_train\u001b[0m\u001b[0;34m)\u001b[0m\u001b[0;34m\u001b[0m\u001b[0;34m\u001b[0m\u001b[0m\n",
      "\u001b[0;32m/usr/lib/python3.8/site-packages/sklearn/decomposition/_base.py\u001b[0m in \u001b[0;36mtransform\u001b[0;34m(self, X)\u001b[0m\n\u001b[1;32m    127\u001b[0m         \u001b[0mX\u001b[0m \u001b[0;34m=\u001b[0m \u001b[0mcheck_array\u001b[0m\u001b[0;34m(\u001b[0m\u001b[0mX\u001b[0m\u001b[0;34m)\u001b[0m\u001b[0;34m\u001b[0m\u001b[0;34m\u001b[0m\u001b[0m\n\u001b[1;32m    128\u001b[0m         \u001b[0;32mif\u001b[0m \u001b[0mself\u001b[0m\u001b[0;34m.\u001b[0m\u001b[0mmean_\u001b[0m \u001b[0;32mis\u001b[0m \u001b[0;32mnot\u001b[0m \u001b[0;32mNone\u001b[0m\u001b[0;34m:\u001b[0m\u001b[0;34m\u001b[0m\u001b[0;34m\u001b[0m\u001b[0m\n\u001b[0;32m--> 129\u001b[0;31m             \u001b[0mX\u001b[0m \u001b[0;34m=\u001b[0m \u001b[0mX\u001b[0m \u001b[0;34m-\u001b[0m \u001b[0mself\u001b[0m\u001b[0;34m.\u001b[0m\u001b[0mmean_\u001b[0m\u001b[0;34m\u001b[0m\u001b[0;34m\u001b[0m\u001b[0m\n\u001b[0m\u001b[1;32m    130\u001b[0m         \u001b[0mX_transformed\u001b[0m \u001b[0;34m=\u001b[0m \u001b[0mnp\u001b[0m\u001b[0;34m.\u001b[0m\u001b[0mdot\u001b[0m\u001b[0;34m(\u001b[0m\u001b[0mX\u001b[0m\u001b[0;34m,\u001b[0m \u001b[0mself\u001b[0m\u001b[0;34m.\u001b[0m\u001b[0mcomponents_\u001b[0m\u001b[0;34m.\u001b[0m\u001b[0mT\u001b[0m\u001b[0;34m)\u001b[0m\u001b[0;34m\u001b[0m\u001b[0;34m\u001b[0m\u001b[0m\n\u001b[1;32m    131\u001b[0m         \u001b[0;32mif\u001b[0m \u001b[0mself\u001b[0m\u001b[0;34m.\u001b[0m\u001b[0mwhiten\u001b[0m\u001b[0;34m:\u001b[0m\u001b[0;34m\u001b[0m\u001b[0;34m\u001b[0m\u001b[0m\n",
      "\u001b[0;31mValueError\u001b[0m: operands could not be broadcast together with shapes (6400,207) (518,) "
     ]
    }
   ],
   "source": [
    "'''print(X_train.shape)\n",
    "X_train = X_train.iloc[0]\n",
    "print(type(X_train))\n",
    "print(X_train.shape)\n",
    "X_train = skl.preprocessing.StandardScaler().fit_transform(X_train.to_frame())\n",
    "\n",
    "X_train = pca.transform(X_train.T)\n",
    "predictions = model.predict_classes(X_train)'''\n",
    "print(X_train.shape)\n",
    "X_train = skl.preprocessing.StandardScaler().fit_transform(X_train)\n",
    "print(X_train)\n",
    "print(X_train.shape)\n",
    "X_train = pca.transform(X_train)\n",
    "print(X_train.shape)\n",
    "predictions = model.predict_classes(X_train)"
   ]
  },
  {
   "cell_type": "code",
   "execution_count": null,
   "metadata": {},
   "outputs": [],
   "source": [
    "predictions"
   ]
  },
  {
   "cell_type": "code",
   "execution_count": 17,
   "metadata": {},
   "outputs": [
    {
     "ename": "ValueError",
     "evalue": "Mix of label input types (string and number)",
     "output_type": "error",
     "traceback": [
      "\u001b[0;31m---------------------------------------------------------------------------\u001b[0m",
      "\u001b[0;31mValueError\u001b[0m                                Traceback (most recent call last)",
      "\u001b[0;32m<ipython-input-17-db0ccfdf8e1c>\u001b[0m in \u001b[0;36m<module>\u001b[0;34m\u001b[0m\n\u001b[1;32m     28\u001b[0m     \u001b[0mplt\u001b[0m\u001b[0;34m.\u001b[0m\u001b[0mshow\u001b[0m\u001b[0;34m(\u001b[0m\u001b[0;34m)\u001b[0m\u001b[0;34m\u001b[0m\u001b[0;34m\u001b[0m\u001b[0m\n\u001b[1;32m     29\u001b[0m \u001b[0;34m\u001b[0m\u001b[0m\n\u001b[0;32m---> 30\u001b[0;31m \u001b[0mdraw_cm\u001b[0m\u001b[0;34m(\u001b[0m\u001b[0mmodel\u001b[0m\u001b[0;34m,\u001b[0m \u001b[0;34m'DNN_cm.png'\u001b[0m\u001b[0;34m)\u001b[0m\u001b[0;34m\u001b[0m\u001b[0;34m\u001b[0m\u001b[0m\n\u001b[0m",
      "\u001b[0;32m<ipython-input-17-db0ccfdf8e1c>\u001b[0m in \u001b[0;36mdraw_cm\u001b[0;34m(model, filename)\u001b[0m\n\u001b[1;32m      4\u001b[0m \u001b[0;32mdef\u001b[0m \u001b[0mdraw_cm\u001b[0m\u001b[0;34m(\u001b[0m\u001b[0mmodel\u001b[0m\u001b[0;34m,\u001b[0m \u001b[0mfilename\u001b[0m\u001b[0;34m)\u001b[0m\u001b[0;34m:\u001b[0m\u001b[0;34m\u001b[0m\u001b[0;34m\u001b[0m\u001b[0m\n\u001b[1;32m      5\u001b[0m     \u001b[0my_predict\u001b[0m \u001b[0;34m=\u001b[0m \u001b[0mmodel\u001b[0m\u001b[0;34m.\u001b[0m\u001b[0mpredict_classes\u001b[0m\u001b[0;34m(\u001b[0m\u001b[0mX_test\u001b[0m\u001b[0;34m)\u001b[0m\u001b[0;34m\u001b[0m\u001b[0;34m\u001b[0m\u001b[0m\n\u001b[0;32m----> 6\u001b[0;31m     \u001b[0mcm\u001b[0m \u001b[0;34m=\u001b[0m \u001b[0mconfusion_matrix\u001b[0m\u001b[0;34m(\u001b[0m\u001b[0my_test\u001b[0m\u001b[0;34m,\u001b[0m \u001b[0my_predict\u001b[0m\u001b[0;34m)\u001b[0m\u001b[0;34m\u001b[0m\u001b[0;34m\u001b[0m\u001b[0m\n\u001b[0m\u001b[1;32m      7\u001b[0m     \u001b[0mprint\u001b[0m\u001b[0;34m(\u001b[0m\u001b[0mcm\u001b[0m\u001b[0;34m)\u001b[0m\u001b[0;34m\u001b[0m\u001b[0;34m\u001b[0m\u001b[0m\n\u001b[1;32m      8\u001b[0m \u001b[0;34m\u001b[0m\u001b[0m\n",
      "\u001b[0;32m/usr/lib/python3.8/site-packages/sklearn/metrics/_classification.py\u001b[0m in \u001b[0;36mconfusion_matrix\u001b[0;34m(y_true, y_pred, labels, sample_weight, normalize)\u001b[0m\n\u001b[1;32m    271\u001b[0m \u001b[0;34m\u001b[0m\u001b[0m\n\u001b[1;32m    272\u001b[0m     \u001b[0;32mif\u001b[0m \u001b[0mlabels\u001b[0m \u001b[0;32mis\u001b[0m \u001b[0;32mNone\u001b[0m\u001b[0;34m:\u001b[0m\u001b[0;34m\u001b[0m\u001b[0;34m\u001b[0m\u001b[0m\n\u001b[0;32m--> 273\u001b[0;31m         \u001b[0mlabels\u001b[0m \u001b[0;34m=\u001b[0m \u001b[0munique_labels\u001b[0m\u001b[0;34m(\u001b[0m\u001b[0my_true\u001b[0m\u001b[0;34m,\u001b[0m \u001b[0my_pred\u001b[0m\u001b[0;34m)\u001b[0m\u001b[0;34m\u001b[0m\u001b[0;34m\u001b[0m\u001b[0m\n\u001b[0m\u001b[1;32m    274\u001b[0m     \u001b[0;32melse\u001b[0m\u001b[0;34m:\u001b[0m\u001b[0;34m\u001b[0m\u001b[0;34m\u001b[0m\u001b[0m\n\u001b[1;32m    275\u001b[0m         \u001b[0mlabels\u001b[0m \u001b[0;34m=\u001b[0m \u001b[0mnp\u001b[0m\u001b[0;34m.\u001b[0m\u001b[0masarray\u001b[0m\u001b[0;34m(\u001b[0m\u001b[0mlabels\u001b[0m\u001b[0;34m)\u001b[0m\u001b[0;34m\u001b[0m\u001b[0;34m\u001b[0m\u001b[0m\n",
      "\u001b[0;32m/usr/lib/python3.8/site-packages/sklearn/utils/multiclass.py\u001b[0m in \u001b[0;36munique_labels\u001b[0;34m(*ys)\u001b[0m\n\u001b[1;32m     98\u001b[0m     \u001b[0;31m# Check that we don't mix string type with number type\u001b[0m\u001b[0;34m\u001b[0m\u001b[0;34m\u001b[0m\u001b[0;34m\u001b[0m\u001b[0m\n\u001b[1;32m     99\u001b[0m     \u001b[0;32mif\u001b[0m \u001b[0;34m(\u001b[0m\u001b[0mlen\u001b[0m\u001b[0;34m(\u001b[0m\u001b[0mset\u001b[0m\u001b[0;34m(\u001b[0m\u001b[0misinstance\u001b[0m\u001b[0;34m(\u001b[0m\u001b[0mlabel\u001b[0m\u001b[0;34m,\u001b[0m \u001b[0mstr\u001b[0m\u001b[0;34m)\u001b[0m \u001b[0;32mfor\u001b[0m \u001b[0mlabel\u001b[0m \u001b[0;32min\u001b[0m \u001b[0mys_labels\u001b[0m\u001b[0;34m)\u001b[0m\u001b[0;34m)\u001b[0m \u001b[0;34m>\u001b[0m \u001b[0;36m1\u001b[0m\u001b[0;34m)\u001b[0m\u001b[0;34m:\u001b[0m\u001b[0;34m\u001b[0m\u001b[0;34m\u001b[0m\u001b[0m\n\u001b[0;32m--> 100\u001b[0;31m         \u001b[0;32mraise\u001b[0m \u001b[0mValueError\u001b[0m\u001b[0;34m(\u001b[0m\u001b[0;34m\"Mix of label input types (string and number)\"\u001b[0m\u001b[0;34m)\u001b[0m\u001b[0;34m\u001b[0m\u001b[0;34m\u001b[0m\u001b[0m\n\u001b[0m\u001b[1;32m    101\u001b[0m \u001b[0;34m\u001b[0m\u001b[0m\n\u001b[1;32m    102\u001b[0m     \u001b[0;32mreturn\u001b[0m \u001b[0mnp\u001b[0m\u001b[0;34m.\u001b[0m\u001b[0marray\u001b[0m\u001b[0;34m(\u001b[0m\u001b[0msorted\u001b[0m\u001b[0;34m(\u001b[0m\u001b[0mys_labels\u001b[0m\u001b[0;34m)\u001b[0m\u001b[0;34m)\u001b[0m\u001b[0;34m\u001b[0m\u001b[0;34m\u001b[0m\u001b[0m\n",
      "\u001b[0;31mValueError\u001b[0m: Mix of label input types (string and number)"
     ]
    }
   ],
   "source": [
    "from sklearn.metrics import confusion_matrix\n",
    "import itertools\n",
    "\n",
    "def draw_cm(model, filename):\n",
    "    y_predict = model.predict_classes(X_test)\n",
    "    cm = confusion_matrix(y_test, y_predict)\n",
    "    print(cm)\n",
    "    \n",
    "    df_cm = pd.DataFrame(cm, index = [i for i in genre_names],\n",
    "                      columns = [i for i in genre_names])\n",
    "    fig = plt.figure(figsize=(15,15))\n",
    "    ax = fig.add_subplot(111)\n",
    "    cax = ax.matshow(df_cm, cmap='hot')\n",
    "    fig.colorbar(cax)\n",
    "    ax.set_xticks(np.arange(8))\n",
    "    ax.set_yticks(np.arange(8))\n",
    "    ax.set_xticklabels(genre_names)\n",
    "    ax.set_yticklabels(genre_names)\n",
    "    thresh = cm.max() / 2.\n",
    "    for i, j in itertools.product(range(cm.shape[0]), range(cm.shape[1])):\n",
    "        plt.text(j, i, cm[i, j],\n",
    "                 horizontalalignment=\"center\",\n",
    "                 color=\"black\" if cm[i, j] > thresh else \"white\")\n",
    "\n",
    "    plt.xlabel('Predicted')\n",
    "    plt.ylabel('True')\n",
    "    plt.savefig(filename)\n",
    "    plt.show()\n",
    "\n",
    "draw_cm(model, 'DNN_cm.png')"
   ]
  },
  {
   "cell_type": "code",
   "execution_count": null,
   "metadata": {},
   "outputs": [],
   "source": []
  }
 ],
 "metadata": {
  "kernelspec": {
   "display_name": "Python 3",
   "language": "python",
   "name": "python3"
  },
  "language_info": {
   "codemirror_mode": {
    "name": "ipython",
    "version": 3
   },
   "file_extension": ".py",
   "mimetype": "text/x-python",
   "name": "python",
   "nbconvert_exporter": "python",
   "pygments_lexer": "ipython3",
   "version": "3.8.1"
  }
 },
 "nbformat": 4,
 "nbformat_minor": 4
}
