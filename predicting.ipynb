{
 "cells": [
  {
   "cell_type": "code",
   "execution_count": 19,
   "metadata": {},
   "outputs": [],
   "source": [
    "from tensorflow.keras.models import load_model\n",
    "\n",
    "import os\n",
    "import multiprocessing\n",
    "import warnings\n",
    "import librosa\n",
    "\n",
    "from tqdm import tqdm\n",
    "from scipy import stats\n",
    "\n",
    "import numpy as np\n",
    "import pandas as pd\n",
    "import sklearn as skl\n",
    "import utils"
   ]
  },
  {
   "cell_type": "code",
   "execution_count": 20,
   "metadata": {},
   "outputs": [
    {
     "name": "stdout",
     "output_type": "stream",
     "text": [
      "WARNING:tensorflow:Large dropout rate: 0.6 (>0.5). In TensorFlow 2.x, dropout() uses dropout rate instead of keep_prob. Please ensure that this is intended.\n",
      "Model: \"sequential_92\"\n",
      "_________________________________________________________________\n",
      "Layer (type)                 Output Shape              Param #   \n",
      "=================================================================\n",
      "dense_325 (Dense)            (None, 128)               26624     \n",
      "_________________________________________________________________\n",
      "dropout_217 (Dropout)        (None, 128)               0         \n",
      "_________________________________________________________________\n",
      "dense_326 (Dense)            (None, 256)               33024     \n",
      "_________________________________________________________________\n",
      "dropout_218 (Dropout)        (None, 256)               0         \n",
      "_________________________________________________________________\n",
      "dense_327 (Dense)            (None, 8)                 2056      \n",
      "=================================================================\n",
      "Total params: 61,704\n",
      "Trainable params: 61,704\n",
      "Non-trainable params: 0\n",
      "_________________________________________________________________\n"
     ]
    }
   ],
   "source": [
    "model = load_model('DNN.h5')\n",
    "model.summary()"
   ]
  },
  {
   "cell_type": "code",
   "execution_count": 59,
   "metadata": {},
   "outputs": [],
   "source": [
    "def columns():\n",
    "    feature_sizes = dict(chroma_stft=12, chroma_cqt=12, chroma_cens=12,\n",
    "                         tonnetz=6, mfcc=20, rmse=1, zcr=1,\n",
    "                         spectral_centroid=1, spectral_bandwidth=1,\n",
    "                         spectral_contrast=7, spectral_rolloff=1)\n",
    "    moments = ('mean', 'std', 'skew', 'kurtosis', 'median', 'min', 'max')\n",
    "\n",
    "    columns = []\n",
    "    for name, size in feature_sizes.items():\n",
    "        for moment in moments:\n",
    "            it = ((name, moment, '{:02d}'.format(i+1)) for i in range(size))\n",
    "            columns.extend(it)\n",
    "\n",
    "    names = ('feature', 'statistics', 'number')\n",
    "    columns = pd.MultiIndex.from_tuples(columns, names=names)\n",
    "\n",
    "    # More efficient to slice if indexes are sorted.\n",
    "    return columns.sort_values()\n",
    "\n",
    "\n",
    "def compute_features(filepath):\n",
    "\n",
    "    features = pd.Series(index=columns(), dtype=np.float32, name=filepath)\n",
    "\n",
    "    # Catch warnings as exceptions (audioread leaks file descriptors).\n",
    "    warnings.filterwarnings('error', module='librosa')\n",
    "\n",
    "    def feature_stats(name, values):\n",
    "        features[name, 'mean'] = np.mean(values, axis=1)\n",
    "        features[name, 'std'] = np.std(values, axis=1)\n",
    "        features[name, 'skew'] = stats.skew(values, axis=1)\n",
    "        features[name, 'kurtosis'] = stats.kurtosis(values, axis=1)\n",
    "        features[name, 'median'] = np.median(values, axis=1)\n",
    "        features[name, 'min'] = np.min(values, axis=1)\n",
    "        features[name, 'max'] = np.max(values, axis=1)\n",
    "\n",
    "    try:\n",
    "        x, sr = librosa.load(filepath, sr=None, mono=True)  # kaiser_fast\n",
    "\n",
    "        f = librosa.feature.zero_crossing_rate(x, frame_length=2048, hop_length=512)\n",
    "        feature_stats('zcr', f)\n",
    "\n",
    "        cqt = np.abs(librosa.cqt(x, sr=sr, hop_length=512, bins_per_octave=12,\n",
    "                                 n_bins=7*12, tuning=None))\n",
    "        assert cqt.shape[0] == 7 * 12\n",
    "        assert np.ceil(len(x)/512) <= cqt.shape[1] <= np.ceil(len(x)/512)+1\n",
    "\n",
    "        f = librosa.feature.chroma_cqt(C=cqt, n_chroma=12, n_octaves=7)\n",
    "        feature_stats('chroma_cqt', f)\n",
    "        f = librosa.feature.chroma_cens(C=cqt, n_chroma=12, n_octaves=7)\n",
    "        feature_stats('chroma_cens', f)\n",
    "        f = librosa.feature.tonnetz(chroma=f)\n",
    "        feature_stats('tonnetz', f)\n",
    "\n",
    "        del cqt\n",
    "        stft = np.abs(librosa.stft(x, n_fft=2048, hop_length=512))\n",
    "        assert stft.shape[0] == 1 + 2048 // 2\n",
    "        assert np.ceil(len(x)/512) <= stft.shape[1] <= np.ceil(len(x)/512)+1\n",
    "        del x\n",
    "\n",
    "        f = librosa.feature.chroma_stft(S=stft**2, n_chroma=12)\n",
    "        feature_stats('chroma_stft', f)\n",
    "\n",
    "        f = librosa.feature.rms(S=stft)\n",
    "        feature_stats('rmse', f)\n",
    "\n",
    "        f = librosa.feature.spectral_centroid(S=stft)\n",
    "        feature_stats('spectral_centroid', f)\n",
    "        f = librosa.feature.spectral_bandwidth(S=stft)\n",
    "        feature_stats('spectral_bandwidth', f)\n",
    "        f = librosa.feature.spectral_contrast(S=stft, n_bands=6)\n",
    "        feature_stats('spectral_contrast', f)\n",
    "        f = librosa.feature.spectral_rolloff(S=stft)\n",
    "        feature_stats('spectral_rolloff', f)\n",
    "\n",
    "        mel = librosa.feature.melspectrogram(sr=sr, S=stft**2)\n",
    "        del stft\n",
    "        f = librosa.feature.mfcc(S=librosa.power_to_db(mel), n_mfcc=20)\n",
    "        feature_stats('mfcc', f)\n",
    "\n",
    "    except Exception as e:\n",
    "        print('{}: {}'.format(filepath, repr(e)))\n",
    "\n",
    "    return features\n",
    "\n",
    "genre_dict = {\n",
    "    'Hip-Hop': 0,\n",
    "    'Pop': 1,\n",
    "    'Folk': 2,\n",
    "    'Rock': 3,\n",
    "    'Experimental': 4,\n",
    "    'International': 5,\n",
    "    'Electronic': 6,\n",
    "    'Instrumental': 7,\n",
    "}\n",
    "\n",
    "inv_genre_dict = {v: k for k, v in genre_dict.items()}\n",
    "\n",
    "genre_names = [inv_genre_dict[i] for i in range(8)]"
   ]
  },
  {
   "cell_type": "code",
   "execution_count": 60,
   "metadata": {},
   "outputs": [],
   "source": [
    "features = compute_features('test.wav')"
   ]
  },
  {
   "cell_type": "code",
   "execution_count": 61,
   "metadata": {},
   "outputs": [
    {
     "data": {
      "text/plain": [
       "feature      statistics  number\n",
       "chroma_cens  kurtosis    01        3.503510\n",
       "                         02        0.702182\n",
       "                         03       -0.472342\n",
       "                         04       -0.469483\n",
       "                         05        0.598473\n",
       "Name: test.wav, dtype: float32"
      ]
     },
     "execution_count": 61,
     "metadata": {},
     "output_type": "execute_result"
    }
   ],
   "source": [
    "features.head()"
   ]
  },
  {
   "cell_type": "code",
   "execution_count": 63,
   "metadata": {},
   "outputs": [
    {
     "name": "stdout",
     "output_type": "stream",
     "text": [
      "International\n"
     ]
    }
   ],
   "source": [
    "import pickle\n",
    "\n",
    "X = features.to_frame()\n",
    "X = X.T\n",
    "pca = pickle.load(open('pca','rb'))\n",
    "X = pca.transform(X)\n",
    "\n",
    "print(inv_genre_dict[model.predict_classes(X)[0]])"
   ]
  },
  {
   "cell_type": "code",
   "execution_count": null,
   "metadata": {},
   "outputs": [],
   "source": []
  },
  {
   "cell_type": "code",
   "execution_count": null,
   "metadata": {},
   "outputs": [],
   "source": []
  },
  {
   "cell_type": "code",
   "execution_count": null,
   "metadata": {},
   "outputs": [],
   "source": []
  }
 ],
 "metadata": {
  "kernelspec": {
   "display_name": "Python 3",
   "language": "python",
   "name": "python3"
  },
  "language_info": {
   "codemirror_mode": {
    "name": "ipython",
    "version": 3
   },
   "file_extension": ".py",
   "mimetype": "text/x-python",
   "name": "python",
   "nbconvert_exporter": "python",
   "pygments_lexer": "ipython3",
   "version": "3.8.1"
  }
 },
 "nbformat": 4,
 "nbformat_minor": 4
}
